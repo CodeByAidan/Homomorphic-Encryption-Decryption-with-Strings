{
   "cells": [
      {
         "cell_type": "markdown",
         "metadata": {},
         "source": [
            "# RLWE Homomorphic Encryption Example\n",
            "This Jupyter Notebook provides an example of using the RLWE homomorphic encryption scheme for encrypting and decrypting binary vectors."
         ]
      },
      {
         "cell_type": "markdown",
         "metadata": {},
         "source": [
            "## Import Libraries\n",
            "We begin by importing the necessary libraries for our example."
         ]
      },
      {
         "cell_type": "code",
         "execution_count": 24,
         "metadata": {},
         "outputs": [],
         "source": [
            "import rlwe_he_scheme_updated as rlwe_updated\n",
            "import numpy as np"
         ]
      },
      {
         "cell_type": "markdown",
         "metadata": {},
         "source": [
            "## Scheme Parameters\n",
            "We define the parameters for the RLWE encryption scheme.\n",
            "\n",
            "$$\n",
            "\\begin{align*}\n",
            "\\text{Polynomial Modulus Degree (n)} &: n = 2^3 = 8 \\\\\n",
            "\\text{Ciphertext Modulus (q)} &: q = 2^{14} = 16384 \\\\\n",
            "\\text{Plaintext Modulus (t)} &: t = 2 \\\\\n",
            "\\text{Base for } \\text{relin\\_v1 (T)} &: T = \\sqrt{q} = \\sqrt{16384} = 128 \\\\\n",
            "\\text{Modulusswitching Modulus (p)} &: p = q^3 = 4398046511104 \\\\\n",
            "\\text{Polynomial Modulus (poly\\_mod)} &: \\text{poly\\_mod} = [1, \\underbrace{0, 0, \\ldots, 0}_{n-1}, 1] \\\\\n",
            "\\text{Standard Deviation (std1)} &: \\text{std1} = 1 \\\\\n",
            "\\text{Standard Deviation (std2)} &: \\text{std2} = 1\n",
            "\\end{align*}\n",
            "$$\n",
            "\n",
            "These parameters are essential for the RLWE homomorphic encryption scheme and are used for various encryption and evaluation operations.\n"
         ]
      },
      {
         "cell_type": "code",
         "execution_count": 25,
         "metadata": {},
         "outputs": [
            {
               "data": {
                  "text/plain": [
                     "(8, 16384, 2, 128, 4398046511104, array([1, 0, 0, 0, 0, 0, 0, 0, 1]), 1, 1)"
                  ]
               },
               "execution_count": 25,
               "metadata": {},
               "output_type": "execute_result"
            }
         ],
         "source": [
            "# Scheme's parameters\n",
            "# polynomial modulus degree\n",
            "n = 2 ** 3\n",
            "# ciphertext modulus\n",
            "q = 2 ** 14\n",
            "# plaintext modulus\n",
            "t = 2\n",
            "# base for relin_v1\n",
            "T = int(np.sqrt(q))\n",
            "# modulusswitching modulus\n",
            "p = q ** 3\n",
            "\n",
            "# polynomial modulus\n",
            "poly_mod = np.array([1] + [0] * (n - 1) + [1])\n",
            "\n",
            "# standard deviation for the error in the encryption\n",
            "std1 = 1\n",
            "# standard deviation for the error in the evaluateKeyGen_v2\n",
            "std2 = 1\n",
            "n, q, t, T, p, poly_mod, std1, std2"
         ]
      },
      {
         "cell_type": "markdown",
         "metadata": {},
         "source": [
            "## Key Generation\n",
            "The key generation process involves generating a public key $ pk $ and a secret key $ sk $. The public key is used for encryption, and the secret key is used for decryption.\n",
            "\n",
            "### Generating Secret and Public Keys\n",
            "\n",
            "The secret key $ sk $ is a binary polynomial. The public key $ pk $ is generated as follows:\n",
            "\n",
            "$$\n",
            "\\begin{align*}\n",
            "sk &: \\text{Binary secret key polynomial} \\\\\n",
            "a &: \\text{Uniformly random polynomial} \\\\\n",
            "e &: \\text{Error polynomial sampled from a normal distribution} \\\\\n",
            "b &: a \\cdot sk - e \\mod q\n",
            "\\end{align*}\n",
            "$$\n",
            "\n",
            "After the key generation process, we obtain the secret key $ sk $ and the public key $ pk $, which are used in various encryption and evaluation operations.\n"
         ]
      },
      {
         "cell_type": "code",
         "execution_count": 26,
         "metadata": {},
         "outputs": [
            {
               "data": {
                  "text/plain": [
                     "((array([15921, 10402,   248, 12723,  5245,  5517, 12179,  6717],\n",
                     "        dtype=int64),\n",
                     "  array([ 1601, 12640, 10112, 16156,  2832, 10579, 11613, 15401],\n",
                     "        dtype=int64)),\n",
                     " array([0, 0, 1, 1, 0, 0, 1, 0], dtype=int64))"
                  ]
               },
               "execution_count": 26,
               "metadata": {},
               "output_type": "execute_result"
            }
         ],
         "source": [
            "# Keygen\n",
            "pk, sk = rlwe_updated.keygen(n, q, poly_mod, std1)\n",
            "pk, sk"
         ]
      },
      {
         "cell_type": "markdown",
         "metadata": {},
         "source": [
            "# Encrypting the Binary Vectors\n",
            "\n",
            "Once we have the binary vectors representing the characters in the message \"Hello world,\" we proceed to encrypt each binary vector to obtain a set of ciphertexts. The encryption process involves converting each binary vector into an encrypted form using the public key $ pk $ and other encryption parameters.\n",
            "\n",
            "$$\n",
            "\\begin{align*}\n",
            "\\text{ciphertexts} &: \\text{List of encrypted binary vectors} \\\\\n",
            "\\text{binary\\_vector} &: [\\text{\"01001000\"}, \\text{\"01100101\"}, \\text{\"01101100\"}, \\\\\n",
            "&\\quad \\text{\"01101100\"}, \\text{\"01101111\"}, \\text{\"00100000\"}, \\text{\"01110111\"}, \\\\\n",
            "&\\quad \\text{\"01101111\"}, \\text{\"01110010\"}, \\text{\"01101100\"}, \\text{\"01100100\"}] \\\\\n",
            "\\text{pt} &: \\text{Binary vector converted to a list of integers} \\\\\n",
            "\\text{ct} &: \\text{Encrypted ciphertext obtained from the encryption function}\n",
            "\\end{align*}\n",
            "$$\n",
            "\n",
            "The resulting $ \\text{ciphertexts} $ represent the encrypted form of the binary vectors corresponding to the characters in the message \"Hello world.\" These ciphertexts preserve the privacy of the original message while allowing for further operations to be performed on the encrypted data.\n"
         ]
      },
      {
         "cell_type": "code",
         "execution_count": 27,
         "metadata": {},
         "outputs": [
            {
               "data": {
                  "text/plain": [
                     "('Hello world',\n",
                     " ['01001000',\n",
                     "  '01100101',\n",
                     "  '01101100',\n",
                     "  '01101100',\n",
                     "  '01101111',\n",
                     "  '00100000',\n",
                     "  '01110111',\n",
                     "  '01101111',\n",
                     "  '01110010',\n",
                     "  '01101100',\n",
                     "  '01100100'])"
                  ]
               },
               "execution_count": 27,
               "metadata": {},
               "output_type": "execute_result"
            }
         ],
         "source": [
            "# Encrypting \"Hello world\" as binary vectors\n",
            "plaintext = \"Hello world\"\n",
            "# Convert each character to 8-bit binary\n",
            "binary_vector = [format(ord(char), '08b') for char in plaintext]\n",
            "plaintext, binary_vector"
         ]
      },
      {
         "cell_type": "code",
         "execution_count": 28,
         "metadata": {},
         "outputs": [
            {
               "data": {
                  "text/plain": [
                     "[(array([13354, 10782,  7754, 16081,  1285,  1804,  4782,  9038],\n",
                     "        dtype=int64),\n",
                     "  array([ 9995,  7330, 14340,  2227, 15765,   638, 14760,  1987],\n",
                     "        dtype=int64)),\n",
                     " (array([15017,  5047, 14961,  2647,  1908, 15865, 16194,  3579],\n",
                     "        dtype=int64),\n",
                     "  array([13217, 14244,  8955, 10326,  9417, 13723,  8724, 10573],\n",
                     "        dtype=int64)),\n",
                     " (array([ 9939,  4888,  6146, 16024,  7128,  2020, 14449, 15456],\n",
                     "        dtype=int64),\n",
                     "  array([14787,  7483, 15381, 15613,  4305,  5527,  5416,  8436],\n",
                     "        dtype=int64)),\n",
                     " (array([  488,  6086, 10812, 15289,  6416, 16082,  9452,  6278],\n",
                     "        dtype=int64),\n",
                     "  array([ 7185, 12305,  2168,  3956, 12178,  2010, 12696, 14014],\n",
                     "        dtype=int64)),\n",
                     " (array([ 6771, 10840, 10103,  7675,  8001,  3579,  9559, 11336],\n",
                     "        dtype=int64),\n",
                     "  array([ 8955, 10328,  9416, 13722,  8724, 10575,  3167,  2140],\n",
                     "        dtype=int64)),\n",
                     " (array([ 9283,  9827,   164, 13409,  3221, 10187,  6989,  1833],\n",
                     "        dtype=int64),\n",
                     "  array([ 3200,  7744, 11560,  7355, 15225,  7969,  6140, 12715],\n",
                     "        dtype=int64)),\n",
                     " (array([10156, 10076, 12862, 14935,  3468,  7240, 16247, 14172],\n",
                     "        dtype=int64),\n",
                     "  array([13678,  1255,  8263,  7178,  3859,  5289, 12986, 14489],\n",
                     "        dtype=int64)),\n",
                     " (array([10404,  6416,  1723, 12260,  7455, 13957,   326,  3770],\n",
                     "        dtype=int64),\n",
                     "  array([ 7407,  1025, 11095,  1373, 15472,  4307, 11386,  1848],\n",
                     "        dtype=int64)),\n",
                     " (array([4910, 4559,  684, 8218, 3005, 9450,  110, 2321], dtype=int64),\n",
                     "  array([10846,  7061, 13034,  8161,  5460,  1546,  6713, 14261],\n",
                     "        dtype=int64)),\n",
                     " (array([ 7916,  9557,   955, 11139, 13766,  2594,  6342, 14770],\n",
                     "        dtype=int64),\n",
                     "  array([10795,  4872,  9908, 12928,  2703, 10422,  3970,   853],\n",
                     "        dtype=int64)),\n",
                     " (array([ 3222,  4425,   163, 16272, 11659,  7265,  3582, 11251],\n",
                     "        dtype=int64),\n",
                     "  array([15770,  9084, 11636,  9341,  4076,  8358, 15995,  3666],\n",
                     "        dtype=int64))]"
                  ]
               },
               "execution_count": 28,
               "metadata": {},
               "output_type": "execute_result"
            }
         ],
         "source": [
            "# Encrypting the binary vectors\n",
            "ciphertexts = []\n",
            "for binary_value in binary_vector:\n",
            "    pt = [int(bit) for bit in binary_value]\n",
            "    ct = rlwe_updated.encrypt(pk, n, q, t, poly_mod, pt, std1)\n",
            "    ciphertexts.append(ct)\n",
            "ciphertexts"
         ]
      },
      {
         "cell_type": "markdown",
         "metadata": {},
         "source": [
            "## Decrypting the Binary Vectors and Converting Back to Text\n",
            "\n",
            "After encrypting the binary vectors representing the characters in the message \"Hello world,\" we proceed to decrypt the ciphertexts and convert the decrypted binary vectors back into text. The decryption process involves using the secret key $ sk $ to reverse the encryption process and obtain the original binary vectors.\n",
            "\n",
            "$$\n",
            "\\begin{align*}\n",
            "\\text{decrypted\\_binary\\_vectors} &: \\text{List of decrypted binary vectors} \\\\\n",
            "\\text{ct} &: \\text{Encrypted ciphertext to be decrypted} \\\\\n",
            "\\text{decrypted\\_value} &: \\text{Decrypted binary vector obtained from the decryption function}\n",
            "\\end{align*}\n",
            "$$\n",
            "\n",
            "By decrypting the ciphertexts, we recover the binary vectors that represent the characters in the original message. The resulting $ \\text{decrypted\\_binary\\_vectors} $ are the binary representations of the characters \"Hello world\" before encryption.\n"
         ]
      },
      {
         "cell_type": "code",
         "execution_count": 6,
         "metadata": {},
         "outputs": [],
         "source": [
            "# Decrypting the binary vectors and converting back to text\n",
            "decrypted_binary_vectors = []\n",
            "for ct in ciphertexts:\n",
            "    decrypted_value = rlwe_updated.decrypt(sk, n, q, t, poly_mod, ct)\n",
            "    decrypted_binary_vectors.append(decrypted_value)\n",
            "decrypted_binary_vectors"
         ]
      },
      {
         "cell_type": "markdown",
         "metadata": {},
         "source": [
            "## Converting Decrypted Binary Vectors to Text\n",
            "\n",
            "To obtain the final decrypted message, we convert the decrypted binary vectors back into their corresponding text representation. This involves reversing the process of converting characters to 8-bit binary vectors and mapping them back to their original characters.\n",
            "\n",
            "$$\n",
            "\\begin{align*}\n",
            "\\text{decrypted\\_text} &: \\text{Decrypted message obtained from joining decrypted binary vectors}\n",
            "\\end{align*}\n",
            "$$\n",
            "\n",
            "The $ \\text{decrypted\\_text} $ represents the original message \"Hello world,\" which has been successfully decrypted from its encrypted form."
         ]
      },
      {
         "cell_type": "code",
         "execution_count": 7,
         "metadata": {},
         "outputs": [],
         "source": [
            "decrypted_text = ''.join([chr(int(''.join(map(str, binary_vector)), 2)) for binary_vector in decrypted_binary_vectors])\n",
            "decrypted_text"
         ]
      }
   ],
   "metadata": {
      "kernelspec": {
         "display_name": "Python 3",
         "language": "python",
         "name": "python3"
      },
      "language_info": {
         "codemirror_mode": {
            "name": "ipython",
            "version": 3
         },
         "file_extension": ".py",
         "mimetype": "text/x-python",
         "name": "python",
         "nbconvert_exporter": "python",
         "pygments_lexer": "ipython3",
         "version": "3.10.7"
      }
   },
   "nbformat": 4,
   "nbformat_minor": 2
}
