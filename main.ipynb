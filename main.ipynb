{
   "cells": [
      {
         "cell_type": "markdown",
         "metadata": {},
         "source": [
            "# RLWE Homomorphic Encryption Example\n",
            "This Jupyter Notebook provides an example of using the RLWE homomorphic encryption scheme for encrypting and decrypting binary vectors."
         ]
      },
      {
         "cell_type": "markdown",
         "metadata": {},
         "source": [
            "## Import Libraries\n",
            "We begin by importing the necessary libraries for our example."
         ]
      },
      {
         "cell_type": "code",
         "execution_count": 1,
         "metadata": {},
         "outputs": [],
         "source": [
            "import rlwe_he_scheme_updated as rlwe_updated\n",
            "import numpy as np"
         ]
      },
      {
         "cell_type": "markdown",
         "metadata": {},
         "source": [
            "## Scheme Parameters\n",
            "\n",
            "We define the parameters for the RLWE encryption scheme.\n",
            "\n",
            "$$\n",
            "\\begin{align*}\n",
            "\\text{Polynomial Modulus Degree (n)} &: n = 2^3 = 8 \\\\\n",
            "\\text{Ciphertext Modulus (q)} &: q = 2^{14} = 16384 \\\\\n",
            "\\text{Plaintext Modulus (t)} &: t = 2 \\\\\n",
            "\\text{Base for relin\\_v1 (T)} &: T = \\sqrt{q} = \\sqrt{16384} = 128 \\\\\n",
            "\\text{Modulusswitching Modulus (p)} &: p = q^3 = 4398046511104 \\\\\n",
            "\\text{Polynomial Modulus (poly\\_mod)} &: \\text{poly\\_mod} = [1, 0, 0, \\ldots, 0, 1] \\\\\n",
            "\\text{Standard Deviation (std1)} &: \\text{std1} = 1 \\\\\n",
            "\\text{Standard Deviation (std2)} &: \\text{std2} = 1\n",
            "\\end{align*}\n",
            "$$\n",
            "\n",
            "These parameters are essential for the RLWE homomorphic encryption scheme and are used for various encryption and evaluation operations.\n"
         ]
      },
      {
         "cell_type": "code",
         "execution_count": 2,
         "metadata": {},
         "outputs": [
            {
               "data": {
                  "text/plain": [
                     "(8, 16384, 2, 128, 4398046511104, array([1, 0, 0, 0, 0, 0, 0, 0, 1]), 1, 1)"
                  ]
               },
               "execution_count": 2,
               "metadata": {},
               "output_type": "execute_result"
            }
         ],
         "source": [
            "# Scheme's parameters\n",
            "# polynomial modulus degree\n",
            "n = 2 ** 3\n",
            "# ciphertext modulus\n",
            "q = 2 ** 14\n",
            "# plaintext modulus\n",
            "t = 2\n",
            "# base for relin_v1\n",
            "T = int(np.sqrt(q))\n",
            "# modulusswitching modulus\n",
            "p = q ** 3\n",
            "\n",
            "# polynomial modulus\n",
            "poly_mod = np.array([1] + [0] * (n - 1) + [1])\n",
            "\n",
            "# standard deviation for the error in the encryption\n",
            "std1 = 1\n",
            "# standard deviation for the error in the evaluateKeyGen_v2\n",
            "std2 = 1\n",
            "n, q, t, T, p, poly_mod, std1, std2"
         ]
      },
      {
         "cell_type": "markdown",
         "metadata": {},
         "source": [
            "## Key Generation\n",
            "The key generation process involves generating a public key $ pk $ and a secret key $ sk $. The public key is used for encryption, and the secret key is used for decryption.\n",
            "\n",
            "### Generating Secret and Public Keys\n",
            "\n",
            "The secret key $ sk $ is a binary polynomial. The public key $ pk $ is generated as follows:\n",
            "\n",
            "$$\n",
            "\\begin{align*}\n",
            "sk &: \\text{Binary secret key polynomial} \\\\\n",
            "a &: \\text{Uniformly random polynomial} \\\\\n",
            "e &: \\text{Error polynomial sampled from a normal distribution} \\\\\n",
            "b &: a \\cdot sk - e \\mod q\n",
            "\\end{align*}\n",
            "$$\n",
            "\n",
            "After the key generation process, we obtain the secret key $ sk $ and the public key $ pk $, which are used in various encryption and evaluation operations.\n"
         ]
      },
      {
         "cell_type": "code",
         "execution_count": 3,
         "metadata": {},
         "outputs": [
            {
               "data": {
                  "text/plain": [
                     "((array([  577, 15276,  9120, 12604,  4788, 13266,  2885,  2765],\n",
                     "        dtype=int64),\n",
                     "  array([ 8130,  1808,  9150,  7022, 10929,  5369, 11811,  7812],\n",
                     "        dtype=int64)),\n",
                     " array([0, 1, 0, 0, 0, 0, 1, 0], dtype=int64))"
                  ]
               },
               "execution_count": 3,
               "metadata": {},
               "output_type": "execute_result"
            }
         ],
         "source": [
            "# Keygen\n",
            "pk, sk = rlwe_updated.keygen(n, q, poly_mod, std1)\n",
            "pk, sk"
         ]
      },
      {
         "cell_type": "markdown",
         "metadata": {},
         "source": [
            "# Encrypting the Binary Vectors\n",
            "\n",
            "Once we have the binary vectors representing the characters in the message \"Hello world,\" we proceed to encrypt each binary vector to obtain a set of ciphertexts. The encryption process involves converting each binary vector into an encrypted form using the public key $ pk $ and other encryption parameters.\n",
            "\n",
            "$$\n",
            "\\begin{align*}\n",
            "\\text{ciphertexts} &: \\text{List of encrypted binary vectors} \\\\\n",
            "\\text{binary\\_vector} &: [\\text{\"01001000\"}, \\text{\"01100101\"}, \\text{\"01101100\"}, \\\\\n",
            "&\\quad \\text{\"01101100\"}, \\text{\"01101111\"}, \\text{\"00100000\"}, \\text{\"01110111\"}, \\\\\n",
            "&\\quad \\text{\"01101111\"}, \\text{\"01110010\"}, \\text{\"01101100\"}, \\text{\"01100100\"}] \\\\\n",
            "\\text{pt} &: \\text{Binary vector converted to a list of integers} \\\\\n",
            "\\text{ct} &: \\text{Encrypted ciphertext obtained from the encryption function}\n",
            "\\end{align*}\n",
            "$$\n",
            "\n",
            "The resulting $ \\text{ciphertexts} $ represent the encrypted form of the binary vectors corresponding to the characters in the message \"Hello world.\" These ciphertexts preserve the privacy of the original message while allowing for further operations to be performed on the encrypted data.\n"
         ]
      },
      {
         "cell_type": "code",
         "execution_count": 4,
         "metadata": {},
         "outputs": [
            {
               "data": {
                  "text/plain": [
                     "('Hello world',\n",
                     " ['01001000',\n",
                     "  '01100101',\n",
                     "  '01101100',\n",
                     "  '01101100',\n",
                     "  '01101111',\n",
                     "  '00100000',\n",
                     "  '01110111',\n",
                     "  '01101111',\n",
                     "  '01110010',\n",
                     "  '01101100',\n",
                     "  '01100100'])"
                  ]
               },
               "execution_count": 4,
               "metadata": {},
               "output_type": "execute_result"
            }
         ],
         "source": [
            "# Encrypting \"Hello world\" as binary vectors\n",
            "plaintext = \"Hello world\"\n",
            "# Convert each character to 8-bit binary\n",
            "binary_vector = [format(ord(char), '08b') for char in plaintext]\n",
            "plaintext, binary_vector"
         ]
      },
      {
         "cell_type": "code",
         "execution_count": 5,
         "metadata": {},
         "outputs": [
            {
               "data": {
                  "text/plain": [
                     "[(array([ 9820, 15808,  1472,  7723,  4624,  8611, 11143, 10063],\n",
                     "        dtype=int64),\n",
                     "  array([ 8220, 10437,  5681, 15834, 11911, 13403, 12267,  4136],\n",
                     "        dtype=int64)),\n",
                     " (array([11397,  4876,  2649,  9930,  5846,  3528,  8954,  7492],\n",
                     "        dtype=int64),\n",
                     "  array([ 3415, 11137, 10466,   101,  5591,  4012,  5946,   930],\n",
                     "        dtype=int64)),\n",
                     " (array([ 7717, 15258,  3544,  2376,  1349, 15919, 15311, 12482],\n",
                     "        dtype=int64),\n",
                     "  array([ 7062, 13001,  8018, 14128,  8352, 10394,  7284, 16082],\n",
                     "        dtype=int64)),\n",
                     " (array([11311,  4896,   397,  4232,  1936,  6082,  4556,  2533],\n",
                     "        dtype=int64),\n",
                     "  array([ 4891,  2126,  2703,  1596, 10718,  6936, 11725,  8609],\n",
                     "        dtype=int64)),\n",
                     " (array([  699,  3206,  4876, 10841,  1739, 14038,  3528,   764],\n",
                     "        dtype=int64),\n",
                     "  array([15454,  3415, 11137, 10465,   100,  5591,  4014,  5946],\n",
                     "        dtype=int64)),\n",
                     " (array([ 3218,  2710,  9441,  6526, 16206,  5703,  1468, 10704],\n",
                     "        dtype=int64),\n",
                     "  array([ 7640, 11893,   754, 10347, 13141,  7277, 10168,  2464],\n",
                     "        dtype=int64)),\n",
                     " (array([ 5839, 14163,  3889, 15111,  4465, 12670,  3894, 12215],\n",
                     "        dtype=int64),\n",
                     "  array([13202,  5103,   559,  2790,   800,  7479,  7254,  5279],\n",
                     "        dtype=int64)),\n",
                     " (array([11854,   425, 13452, 12307, 15342,  8225, 11553,  4255],\n",
                     "        dtype=int64),\n",
                     "  array([ 7546, 13387,  9554, 16164,  2264,  5475,  6932,  2299],\n",
                     "        dtype=int64)),\n",
                     " (array([15272, 11563,  7537,  4213, 12744,  4047,  1116, 13378],\n",
                     "        dtype=int64),\n",
                     "  array([ 9419, 10239,  1635, 12789,  9584, 14041,  9148, 13635],\n",
                     "        dtype=int64)),\n",
                     " (array([13082, 11032, 15548,  1363,  5559, 13909,  9074,  2643],\n",
                     "        dtype=int64),\n",
                     "  array([ 9737,  3794, 12594, 12577, 11151, 13955,  9944,   488],\n",
                     "        dtype=int64)),\n",
                     " (array([11490, 16352,  4419, 15291, 15508, 11662, 10416,  4257],\n",
                     "        dtype=int64),\n",
                     "  array([  57, 4784, 7005, 8216, 1012, 5911, 7340, 4483], dtype=int64))]"
                  ]
               },
               "execution_count": 5,
               "metadata": {},
               "output_type": "execute_result"
            }
         ],
         "source": [
            "# Encrypting the binary vectors\n",
            "ciphertexts = []\n",
            "for binary_value in binary_vector:\n",
            "    pt = [int(bit) for bit in binary_value]\n",
            "    ct = rlwe_updated.encrypt(pk, n, q, t, poly_mod, pt, std1)\n",
            "    ciphertexts.append(ct)\n",
            "ciphertexts"
         ]
      },
      {
         "cell_type": "markdown",
         "metadata": {},
         "source": [
            "## Decrypting the Binary Vectors and Converting Back to Text\n",
            "\n",
            "After encrypting the binary vectors representing the characters in the message \"Hello world,\" we proceed to decrypt the ciphertexts and convert the decrypted binary vectors back into text. The decryption process involves using the secret key $ sk $ to reverse the encryption process and obtain the original binary vectors.\n",
            "\n",
            "$$\n",
            "\\begin{align*}\n",
            "\\text{decrypted\\_binary\\_vectors} &: \\text{List of decrypted binary vectors} \\\\\n",
            "\\text{ct} &: \\text{Encrypted ciphertext to be decrypted} \\\\\n",
            "\\text{decrypted\\_value} &: \\text{Decrypted binary vector obtained from the decryption function}\n",
            "\\end{align*}\n",
            "$$\n",
            "\n",
            "By decrypting the ciphertexts, we recover the binary vectors that represent the characters in the original message. The resulting $ \\text{decrypted\\_binary\\_vectors} $ are the binary representations of the characters \"Hello world\" before encryption.\n"
         ]
      },
      {
         "cell_type": "code",
         "execution_count": 6,
         "metadata": {},
         "outputs": [
            {
               "data": {
                  "text/plain": [
                     "[array([0, 1, 0, 0, 1, 0, 0, 0], dtype=int64),\n",
                     " array([0, 1, 1, 0, 0, 1, 0, 1], dtype=int64),\n",
                     " array([0, 1, 1, 0, 1, 1, 0, 0], dtype=int64),\n",
                     " array([0, 1, 1, 0, 1, 1, 0, 0], dtype=int64),\n",
                     " array([0, 1, 1, 0, 1, 1, 1, 1], dtype=int64),\n",
                     " array([0, 0, 1, 0, 0, 0, 0, 0], dtype=int64),\n",
                     " array([0, 1, 1, 1, 0, 1, 1, 1], dtype=int64),\n",
                     " array([0, 1, 1, 0, 1, 1, 1, 1], dtype=int64),\n",
                     " array([0, 1, 1, 1, 0, 0, 1, 0], dtype=int64),\n",
                     " array([0, 1, 1, 0, 1, 1, 0, 0], dtype=int64),\n",
                     " array([0, 1, 1, 0, 0, 1, 0, 0], dtype=int64)]"
                  ]
               },
               "execution_count": 6,
               "metadata": {},
               "output_type": "execute_result"
            }
         ],
         "source": [
            "# Decrypting the binary vectors and converting back to text\n",
            "decrypted_binary_vectors = []\n",
            "for ct in ciphertexts:\n",
            "    decrypted_value = rlwe_updated.decrypt(sk, n, q, t, poly_mod, ct)\n",
            "    decrypted_binary_vectors.append(decrypted_value)\n",
            "decrypted_binary_vectors"
         ]
      },
      {
         "cell_type": "markdown",
         "metadata": {},
         "source": [
            "## Converting Decrypted Binary Vectors to Text\n",
            "\n",
            "To obtain the final decrypted message, we convert the decrypted binary vectors back into their corresponding text representation. This involves reversing the process of converting characters to 8-bit binary vectors and mapping them back to their original characters.\n",
            "\n",
            "$$\n",
            "\\begin{align*}\n",
            "\\text{decrypted\\_text} &: \\text{Decrypted message obtained from joining decrypted binary vectors}\n",
            "\\end{align*}\n",
            "$$\n",
            "\n",
            "The $ \\text{decrypted\\_text} $ represents the original message \"Hello world,\" which has been successfully decrypted from its encrypted form."
         ]
      },
      {
         "cell_type": "code",
         "execution_count": 7,
         "metadata": {},
         "outputs": [
            {
               "data": {
                  "text/plain": [
                     "'Hello world'"
                  ]
               },
               "execution_count": 7,
               "metadata": {},
               "output_type": "execute_result"
            }
         ],
         "source": [
            "decrypted_text = ''.join([chr(int(''.join(map(str, binary_vector)), 2)) for binary_vector in decrypted_binary_vectors])\n",
            "decrypted_text"
         ]
      }
   ],
   "metadata": {
      "kernelspec": {
         "display_name": "Python 3",
         "language": "python",
         "name": "python3"
      },
      "language_info": {
         "codemirror_mode": {
            "name": "ipython",
            "version": 3
         },
         "file_extension": ".py",
         "mimetype": "text/x-python",
         "name": "python",
         "nbconvert_exporter": "python",
         "pygments_lexer": "ipython3",
         "version": "3.10.7"
      }
   },
   "nbformat": 4,
   "nbformat_minor": 2
}
